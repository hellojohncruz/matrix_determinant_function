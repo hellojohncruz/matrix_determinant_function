{
 "cells": [
  {
   "cell_type": "code",
   "execution_count": 1,
   "id": "b925ac3e-b0e1-4e15-97b3-0b7de738bdbc",
   "metadata": {},
   "outputs": [],
   "source": [
    "import numpy as np"
   ]
  },
  {
   "cell_type": "markdown",
   "id": "0efdc81a-8dc0-4860-8e49-96778cdb2cb6",
   "metadata": {},
   "source": [
    "# Determinant Functions of 2x2 and 3x3 Matrices"
   ]
  },
  {
   "cell_type": "markdown",
   "id": "5ec69b9f-5260-402e-a7df-cb6a69fc8b0f",
   "metadata": {},
   "source": [
    "This function will solve for the determinant of a 2x2 square matrix"
   ]
  },
  {
   "cell_type": "code",
   "execution_count": 2,
   "id": "025657d7-9f39-4d3e-991e-411139936deb",
   "metadata": {},
   "outputs": [],
   "source": [
    "def solve_2by2(input_array):\n",
    "    # Solve a determinant of a 2x2 matrix\n",
    "    a = input_array[0, 0]\n",
    "    b = input_array[0, 1]\n",
    "    c = input_array[1, 0]\n",
    "    d = input_array[1, 1]\n",
    "    \n",
    "    return a*d-b*c"
   ]
  },
  {
   "cell_type": "markdown",
   "id": "21611898-5f9c-4c8a-8b3e-48e91a764642",
   "metadata": {},
   "source": [
    "Create a random 2x2 matrix and solve for its determinant"
   ]
  },
  {
   "cell_type": "code",
   "execution_count": 3,
   "id": "07f0d29f-1bff-444c-8af0-6627028875db",
   "metadata": {},
   "outputs": [
    {
     "name": "stdout",
     "output_type": "stream",
     "text": [
      "[[45  2]\n",
      " [28 34]]\n",
      "Using created function\n",
      "  1474\n",
      "Using Numpy function\n",
      "  1473.9999999999998\n"
     ]
    }
   ],
   "source": [
    "# control randomization\n",
    "np.random.seed(123)\n",
    "\n",
    "# create 2x2 matrix\n",
    "A = np.random.randint(50, size=(2,2))\n",
    "print(A)\n",
    "\n",
    "# solve for determinant with created function\n",
    "print('Using created function\\n ', solve_2by2(A))\n",
    "\n",
    "# solve for determinant using numpy function to verify\n",
    "print('Using Numpy function\\n ', np.linalg.det(A))"
   ]
  },
  {
   "cell_type": "markdown",
   "id": "deddd82d-a065-4a1e-87e2-67b4acec5a9f",
   "metadata": {},
   "source": [
    "<hr>"
   ]
  },
  {
   "cell_type": "markdown",
   "id": "f7c65ce5-41e4-437d-a191-2e00556fc393",
   "metadata": {},
   "source": [
    "This function will solve for the determinant of a 3x3 square matrix"
   ]
  },
  {
   "cell_type": "code",
   "execution_count": 4,
   "id": "9347af08-7203-4a88-83a9-2a55ee42e713",
   "metadata": {},
   "outputs": [],
   "source": [
    "def solve_3by3(input_array):\n",
    "    # Solve a determinant of a 3x3 matrix\n",
    "    a = input_array[0, 0]\n",
    "    b = input_array[0, 1]\n",
    "    c = input_array[0, 2]\n",
    "    d = input_array[1, 0]\n",
    "    e = input_array[1, 1]\n",
    "    f = input_array[1, 2]\n",
    "    g = input_array[2, 0]\n",
    "    h = input_array[2, 1]\n",
    "    i = input_array[2, 2]\n",
    "    \n",
    "    return (a*(e*i - f*h)) - (b*(d*i - f*g)) + (c*(d*h - e*g))"
   ]
  },
  {
   "cell_type": "code",
   "execution_count": 5,
   "id": "a9a123c4-4947-4ca5-a7bf-bb0d03cacacb",
   "metadata": {},
   "outputs": [
    {
     "name": "stdout",
     "output_type": "stream",
     "text": [
      "[[45  2 28]\n",
      " [34 38 17]\n",
      " [19 42 22]]\n",
      "Using created function:  24408\n",
      "Using Numpy function:  24408.000000000015\n"
     ]
    }
   ],
   "source": [
    "# control randomization\n",
    "np.random.seed(123)\n",
    "\n",
    "# create 2x2 matrix\n",
    "B = np.random.randint(50, size=(3,3))\n",
    "print(B)\n",
    "\n",
    "# solve for determinant with created function\n",
    "print('Using created function: ', solve_3by3(B))\n",
    "\n",
    "# solve for determinant using numpy function to verify\n",
    "print('Using Numpy function: ', np.linalg.det(B))"
   ]
  },
  {
   "cell_type": "code",
   "execution_count": null,
   "id": "0e794770-32e7-48db-bb57-297cff40b88f",
   "metadata": {},
   "outputs": [],
   "source": []
  }
 ],
 "metadata": {
  "kernelspec": {
   "display_name": "Python 3 (ipykernel)",
   "language": "python",
   "name": "python3"
  },
  "language_info": {
   "codemirror_mode": {
    "name": "ipython",
    "version": 3
   },
   "file_extension": ".py",
   "mimetype": "text/x-python",
   "name": "python",
   "nbconvert_exporter": "python",
   "pygments_lexer": "ipython3",
   "version": "3.8.5"
  }
 },
 "nbformat": 4,
 "nbformat_minor": 5
}
